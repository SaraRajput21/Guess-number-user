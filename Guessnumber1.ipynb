{
  "nbformat": 4,
  "nbformat_minor": 0,
  "metadata": {
    "colab": {
      "provenance": [],
      "authorship_tag": "ABX9TyMcW5W2niQT1fdS1+L89biG",
      "include_colab_link": true
    },
    "kernelspec": {
      "name": "python3",
      "display_name": "Python 3"
    },
    "language_info": {
      "name": "python"
    }
  },
  "cells": [
    {
      "cell_type": "markdown",
      "metadata": {
        "id": "view-in-github",
        "colab_type": "text"
      },
      "source": [
        "<a href=\"https://colab.research.google.com/github/SaraRajput21/Guess-number-user/blob/main/Guessnumber1.ipynb\" target=\"_parent\"><img src=\"https://colab.research.google.com/assets/colab-badge.svg\" alt=\"Open In Colab\"/></a>"
      ]
    },
    {
      "cell_type": "code",
      "source": [
        "import random\n",
        "\n",
        "def guess(x):\n",
        "     random_number = random.randint(1, x)\n",
        "     guess = 0\n",
        "     while guess != random_number:\n",
        "         guess = int(input(f'Guess a number between 1 and {x}: '))\n",
        "         if guess < random_number:\n",
        "             print('Sorry, guess again. Too low.')\n",
        "         elif guess > random_number:\n",
        "             print('Sorry, guess again. Too high.')\n",
        "\n",
        "     print(f'Yay, congrats. You have guessed the number {random_number} correctly!!')\n",
        "\n",
        "\n",
        "\n",
        "\n",
        "\n",
        "guess(10)\n"
      ],
      "metadata": {
        "colab": {
          "base_uri": "https://localhost:8080/"
        },
        "id": "M_UfvgfkLhnW",
        "outputId": "8e3a0293-ce59-4ef8-b6f3-9b053abef1ac"
      },
      "execution_count": 5,
      "outputs": [
        {
          "output_type": "stream",
          "name": "stdout",
          "text": [
            "Guess a number between 1 and 10: 7\n",
            "Sorry, guess again. Too high.\n",
            "Guess a number between 1 and 10: 5\n",
            "Sorry, guess again. Too high.\n",
            "Guess a number between 1 and 10: 4\n",
            "Sorry, guess again. Too high.\n",
            "Guess a number between 1 and 10: 2\n",
            "Yay, congrats. You have guessed the number 2 correctly!!\n"
          ]
        }
      ]
    }
  ]
}